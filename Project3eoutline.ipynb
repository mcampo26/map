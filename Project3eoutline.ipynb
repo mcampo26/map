{
  "nbformat": 4,
  "nbformat_minor": 0,
  "metadata": {
    "colab": {
      "name": "Project3eoutline.ipynb",
      "provenance": [],
      "authorship_tag": "ABX9TyMZcR2b20quIah6By+3NlH/",
      "include_colab_link": true
    },
    "kernelspec": {
      "name": "python3",
      "display_name": "Python 3"
    }
  },
  "cells": [
    {
      "cell_type": "markdown",
      "metadata": {
        "id": "view-in-github",
        "colab_type": "text"
      },
      "source": [
        "<a href=\"https://colab.research.google.com/github/mcampo26/map/blob/master/Project3eoutline.ipynb\" target=\"_parent\"><img src=\"https://colab.research.google.com/assets/colab-badge.svg\" alt=\"Open In Colab\"/></a>"
      ]
    },
    {
      "cell_type": "code",
      "metadata": {
        "id": "9H8rqE9iYSDt",
        "colab_type": "code",
        "colab": {}
      },
      "source": [
        "#import necessary packages\n",
        "!apt-get -qq install python-cartopy python3-cartopy\n",
        "import cartopy\n",
        "!pip install pykrige\n",
        "# Now let's import packages\n",
        "import pandas as pd\n",
        "import matplotlib.pyplot as plt\n",
        "import pylab #using as a plotting library for spatial data, make contours\n",
        "import numpy as np #gridded datasets and matrices; array package\n",
        "\n",
        "# import cartopy, which we will use to map\n",
        "import cartopy.crs as ccrs                   # import projections\n",
        "import cartopy.feature as cf                 # import features\n",
        "\n",
        "\n",
        "# import the UniversalKriging function from pykrige.uk \n",
        "from pykrige.uk import UniversalKriging\n",
        "\n"
      ],
      "execution_count": 0,
      "outputs": []
    },
    {
      "cell_type": "code",
      "metadata": {
        "id": "MLKx4VvgnrJY",
        "colab_type": "code",
        "colab": {}
      },
      "source": [
        "!pip install pyproj"
      ],
      "execution_count": 0,
      "outputs": []
    },
    {
      "cell_type": "code",
      "metadata": {
        "id": "aGWCJhLXhs17",
        "colab_type": "code",
        "colab": {}
      },
      "source": [
        "df = pd.read_excel('https://github.com/mcampo26/map/blob/master/FAKEpumpage.xlsx?raw=true') #read excel data"
      ],
      "execution_count": 0,
      "outputs": []
    },
    {
      "cell_type": "code",
      "metadata": {
        "id": "2ZWYb2eNgaw6",
        "colab_type": "code",
        "colab": {}
      },
      "source": [
        "illimap= {'proj': 'lcc', # Lambert Conformal Conic\n",
        "     'ellps': 'clrk66', #Clarke 1866 ellipsoid\n",
        "     'lon_0': -89.5, #Central Meridian\n",
        "     'lat_0': 33, #Latitude of Origin\n",
        "     'lat_1': 33, #Standard Parallel 1\n",
        "     'lat_2': 45, #Standard Parallel 2\n",
        "     'x_0': 2999994*0.3048006096012192, #starting x-coord. in ft, python expects m\n",
        "     'y_0': 0} #starting y-coord.\n",
        "\n",
        "wgs84= Proj('epsg:4326') #Standard lat/long coordinates"
      ],
      "execution_count": 0,
      "outputs": []
    },
    {
      "cell_type": "code",
      "metadata": {
        "id": "y1askcDtsiVz",
        "colab_type": "code",
        "colab": {
          "base_uri": "https://localhost:8080/",
          "height": 391
        },
        "outputId": "7558502e-4872-46f6-f4cb-c1803b51969f"
      },
      "source": [
        "Latitude=[] \n",
        "Longitude=[]\n",
        "for index, row in df.iterrows():\n",
        "  from pyproj import Proj, transform\n",
        "  inProj = Proj(illimap) #define input projection\n",
        "  outProj = wgs84 #define output projection\n",
        "  Long1,Lat1 = (0.3048006096012192*row['lam_x'],0.3048006096012192*row['lam_y']) #define input coordinates; convert lambert ft to m\n",
        "  Long2,Lat2 = transform(inProj,outProj,Long1,Lat1) #convert from lambert to wgs84\n",
        "  Latitude.append(Lat2) #add latitude data to empty Latitude=[] array\n",
        "  Longitude.append(Long2) #add longitude data to empty Longitude=[] array\n",
        "df['Latitude']=Latitude\n",
        "df['Longitude']=Longitude\n",
        "df2=df.drop(['lam_x','lam_y'],axis=1)\n",
        "print(df2)"
      ],
      "execution_count": 27,
      "outputs": [
        {
          "output_type": "stream",
          "text": [
            "    Pumpage 2018 (gallons/yr)  Pumpage 2019 (gallons/yr)   Latitude  Longitude\n",
            "0                     4346400                       3750 -87.620953  41.405236\n",
            "1                     1932000                      93000 -87.618318  41.397821\n",
            "2                   372610000                     110000 -88.068302  41.599605\n",
            "3                    77163000                    3687600 -88.078809  41.639464\n",
            "4                    33228000                     198000 -87.642913  41.446744\n",
            "5                   380355961                  301516000 -87.643012  41.443106\n",
            "6                   346099000                     780000 -88.137381  41.502368\n",
            "7                   166628000                  106710000 -87.615902  41.397783\n",
            "8                   102275000                  317814000 -87.810466  41.485393\n",
            "9                   109078000                  212898000 -88.116037  41.446905\n",
            "10                  130566000                  200000000 -88.085560  41.611688\n",
            "11                  137053000                   85035000 -87.857440  41.496373\n",
            "12                   49543000                  116553000 -88.185084  41.458480\n",
            "13                   10307000                  101225000 -87.972035  41.421608\n",
            "14                   27349000                   81296000 -87.756702  41.420803\n",
            "15                     948659                   53054000 -87.831865  41.504990\n",
            "16                      71813                     252000 -88.249779  41.550301\n",
            "17                   45012000                     252000 -88.138390  41.610022\n",
            "18                       5000                       6681 -88.103955  41.580744\n",
            "19                     250000                     647120 -88.132363  41.580252\n",
            "20                     155000                   28674000 -88.104250  41.566322\n"
          ],
          "name": "stdout"
        }
      ]
    },
    {
      "cell_type": "code",
      "metadata": {
        "id": "JgcigR0rl-IC",
        "colab_type": "code",
        "colab": {
          "base_uri": "https://localhost:8080/",
          "height": 68
        },
        "outputId": "33530241-fe4e-42a7-bdf4-24ef0c45c12c"
      },
      "source": [
        "print(df2.columns)"
      ],
      "execution_count": 28,
      "outputs": [
        {
          "output_type": "stream",
          "text": [
            "Index(['Pumpage 2018 (gallons/yr)', 'Pumpage 2019 (gallons/yr)', 'Latitude',\n",
            "       'Longitude'],\n",
            "      dtype='object')\n"
          ],
          "name": "stdout"
        }
      ]
    }
  ]
}