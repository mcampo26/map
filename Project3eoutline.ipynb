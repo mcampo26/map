{
  "nbformat": 4,
  "nbformat_minor": 0,
  "metadata": {
    "colab": {
      "name": "Project3eoutline.ipynb",
      "provenance": [],
      "authorship_tag": "ABX9TyOjpl0HJ68wRUMxPFRT1Wvm",
      "include_colab_link": true
    },
    "kernelspec": {
      "name": "python3",
      "display_name": "Python 3"
    }
  },
  "cells": [
    {
      "cell_type": "markdown",
      "metadata": {
        "id": "view-in-github",
        "colab_type": "text"
      },
      "source": [
        "<a href=\"https://colab.research.google.com/github/mcampo26/map/blob/master/Project3eoutline.ipynb\" target=\"_parent\"><img src=\"https://colab.research.google.com/assets/colab-badge.svg\" alt=\"Open In Colab\"/></a>"
      ]
    },
    {
      "cell_type": "code",
      "metadata": {
        "id": "9H8rqE9iYSDt",
        "colab_type": "code",
        "colab": {
          "base_uri": "https://localhost:8080/",
          "height": 67
        },
        "outputId": "df3369e9-f9a5-4324-e3de-c24010948390"
      },
      "source": [
        "!apt-get -qq install python-cartopy python3-cartopy\n",
        "import cartopy\n",
        "!pip install pykrige\n",
        "# Now let's import packages\n",
        "import pandas as pd\n",
        "import matplotlib.pyplot as plt\n",
        "import pylab #using as a plotting library for spatial data, make contours\n",
        "import numpy as np #gridded datasets and matrices; array package\n",
        "\n",
        "# import cartopy, which we will use to map\n",
        "import cartopy.crs as ccrs                   # import projections\n",
        "import cartopy.feature as cf                 # import features\n",
        "\n",
        "\n",
        "# import the UniversalKriging function from pykrige.uk \n",
        "from pykrige.uk import UniversalKriging\n"
      ],
      "execution_count": 1,
      "outputs": [
        {
          "output_type": "stream",
          "text": [
            "Requirement already satisfied: pykrige in /usr/local/lib/python3.6/dist-packages (1.5.0)\n",
            "Requirement already satisfied: scipy>=1.1.0 in /usr/local/lib/python3.6/dist-packages (from pykrige) (1.4.1)\n",
            "Requirement already satisfied: numpy>=1.14.5 in /usr/local/lib/python3.6/dist-packages (from pykrige) (1.18.2)\n"
          ],
          "name": "stdout"
        }
      ]
    },
    {
      "cell_type": "code",
      "metadata": {
        "id": "aGWCJhLXhs17",
        "colab_type": "code",
        "colab": {
          "base_uri": "https://localhost:8080/",
          "height": 386
        },
        "outputId": "ea37f9b2-97e8-43ed-8a38-5929d150f637"
      },
      "source": [
        "df = pd.read_excel('https://github.com/mcampo26/map/blob/master/FAKEpumpage.xlsx?raw=true')\n",
        "print(df)"
      ],
      "execution_count": 5,
      "outputs": [
        {
          "output_type": "stream",
          "text": [
            "    Pumpage 2018 (gallons/yr)  Pumpage 2019 (gallons/yr)    lam_x    lam_y\n",
            "0                     4346400                       3750  3513064  3053266\n",
            "1                     1932000                      93000  3513839  3050592\n",
            "2                   372610000                     110000  3389816  3121532\n",
            "3                    77163000                    3687600  3386729  3135944\n",
            "4                    33228000                     198000  3506761  3068194\n",
            "5                   380355961                  301516000  3506761  3066874\n",
            "6                   346099000                     780000  3371537  3085976\n",
            "7                   166628000                  106710000  3514499  3050592\n",
            "8                   102275000                  317814000  3460783  3081317\n",
            "9                   109078000                  212898000  3377663  3065950\n",
            "10                  130566000                  200000000  3385049  3125841\n",
            "11                  137053000                   85035000  3447901  3085064\n",
            "12                   49543000                  116553000  3358761  3069868\n",
            "13                   10307000                  101225000  3417111  3057406\n",
            "14                   27349000                   81296000  3475894  3058172\n",
            "15                     948659                   53054000  3454817  3088316\n",
            "16                      71813                     252000  3340652  3102920\n",
            "17                   45012000                     252000  3370677  3125017\n",
            "18                       5000                       6681  3380214  3114540\n",
            "19                     250000                     647120  3372480  3114244\n",
            "20                     155000                   28674000  3380214  3109308\n"
          ],
          "name": "stdout"
        }
      ]
    },
    {
      "cell_type": "code",
      "metadata": {
        "id": "hPs4WTO_Y_IA",
        "colab_type": "code",
        "colab": {}
      },
      "source": [
        "from pyproj import Proj, transform\n",
        "\n",
        "inProj = Proj('epsg:3035')\n",
        "outProj = Proj('epsg:4326')\n",
        "x1,y1 = -11705274.6374,4826473.6922\n",
        "x2,y2 = transform(inProj,outProj,x1,y1)\n",
        "print x2,y2"
      ],
      "execution_count": 0,
      "outputs": []
    }
  ]
}