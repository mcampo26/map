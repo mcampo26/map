{
  "nbformat": 4,
  "nbformat_minor": 0,
  "metadata": {
    "colab": {
      "name": "Project3eoutline.ipynb",
      "provenance": [],
      "authorship_tag": "ABX9TyOsnr3omN6tLDUSAoGVCzT5",
      "include_colab_link": true
    },
    "kernelspec": {
      "name": "python3",
      "display_name": "Python 3"
    }
  },
  "cells": [
    {
      "cell_type": "markdown",
      "metadata": {
        "id": "view-in-github",
        "colab_type": "text"
      },
      "source": [
        "<a href=\"https://colab.research.google.com/github/mcampo26/map/blob/master/Project3eoutline.ipynb\" target=\"_parent\"><img src=\"https://colab.research.google.com/assets/colab-badge.svg\" alt=\"Open In Colab\"/></a>"
      ]
    },
    {
      "cell_type": "code",
      "metadata": {
        "id": "9H8rqE9iYSDt",
        "colab_type": "code",
        "colab": {
          "base_uri": "https://localhost:8080/",
          "height": 833
        },
        "outputId": "7b9e6d8a-ca50-493e-8707-28db41f4339d"
      },
      "source": [
        "#import necessary packages\n",
        "!apt-get -qq install python-cartopy python3-cartopy\n",
        "import cartopy\n",
        "!pip install pykrige\n",
        "# Now let's import packages\n",
        "import pandas as pd\n",
        "import matplotlib.pyplot as plt\n",
        "import pylab #using as a plotting library for spatial data, make contours\n",
        "import numpy as np #gridded datasets and matrices; array package\n",
        "\n",
        "# import cartopy, which we will use to map\n",
        "import cartopy.crs as ccrs                   # import projections\n",
        "import cartopy.feature as cf                 # import features\n",
        "\n",
        "\n",
        "# import the UniversalKriging function from pykrige.uk \n",
        "from pykrige.uk import UniversalKriging\n",
        "\n"
      ],
      "execution_count": 3,
      "outputs": [
        {
          "output_type": "stream",
          "text": [
            "Selecting previously unselected package python-pkg-resources.\n",
            "(Reading database ... 133872 files and directories currently installed.)\n",
            "Preparing to unpack .../0-python-pkg-resources_39.0.1-2_all.deb ...\n",
            "Unpacking python-pkg-resources (39.0.1-2) ...\n",
            "Selecting previously unselected package python-pyshp.\n",
            "Preparing to unpack .../1-python-pyshp_1.2.12+ds-1_all.deb ...\n",
            "Unpacking python-pyshp (1.2.12+ds-1) ...\n",
            "Selecting previously unselected package python-shapely.\n",
            "Preparing to unpack .../2-python-shapely_1.6.4-1_amd64.deb ...\n",
            "Unpacking python-shapely (1.6.4-1) ...\n",
            "Selecting previously unselected package python-six.\n",
            "Preparing to unpack .../3-python-six_1.11.0-2_all.deb ...\n",
            "Unpacking python-six (1.11.0-2) ...\n",
            "Selecting previously unselected package python-cartopy:amd64.\n",
            "Preparing to unpack .../4-python-cartopy_0.14.2+dfsg1-2build3_amd64.deb ...\n",
            "Unpacking python-cartopy:amd64 (0.14.2+dfsg1-2build3) ...\n",
            "Selecting previously unselected package python3-pkg-resources.\n",
            "Preparing to unpack .../5-python3-pkg-resources_39.0.1-2_all.deb ...\n",
            "Unpacking python3-pkg-resources (39.0.1-2) ...\n",
            "Selecting previously unselected package python3-pyshp.\n",
            "Preparing to unpack .../6-python3-pyshp_1.2.12+ds-1_all.deb ...\n",
            "Unpacking python3-pyshp (1.2.12+ds-1) ...\n",
            "Selecting previously unselected package python3-shapely.\n",
            "Preparing to unpack .../7-python3-shapely_1.6.4-1_amd64.deb ...\n",
            "Unpacking python3-shapely (1.6.4-1) ...\n",
            "Selecting previously unselected package python3-six.\n",
            "Preparing to unpack .../8-python3-six_1.11.0-2_all.deb ...\n",
            "Unpacking python3-six (1.11.0-2) ...\n",
            "Selecting previously unselected package python3-cartopy:amd64.\n",
            "Preparing to unpack .../9-python3-cartopy_0.14.2+dfsg1-2build3_amd64.deb ...\n",
            "Unpacking python3-cartopy:amd64 (0.14.2+dfsg1-2build3) ...\n",
            "Setting up python-shapely (1.6.4-1) ...\n",
            "Setting up python-pyshp (1.2.12+ds-1) ...\n",
            "Setting up python3-six (1.11.0-2) ...\n",
            "Setting up python3-shapely (1.6.4-1) ...\n",
            "Setting up python3-pyshp (1.2.12+ds-1) ...\n",
            "Setting up python3-pkg-resources (39.0.1-2) ...\n",
            "Setting up python-pkg-resources (39.0.1-2) ...\n",
            "Setting up python-six (1.11.0-2) ...\n",
            "Setting up python3-cartopy:amd64 (0.14.2+dfsg1-2build3) ...\n",
            "Setting up python-cartopy:amd64 (0.14.2+dfsg1-2build3) ...\n",
            "Collecting pykrige\n",
            "\u001b[?25l  Downloading https://files.pythonhosted.org/packages/94/16/a37be67b6eff817a44b548e1c4012df6201ea7fc0f9d59bc1a455e6924f9/PyKrige-1.5.0-cp36-cp36m-manylinux2010_x86_64.whl (968kB)\n",
            "\u001b[K     |████████████████████████████████| 972kB 4.8MB/s \n",
            "\u001b[?25hRequirement already satisfied: scipy>=1.1.0 in /usr/local/lib/python3.6/dist-packages (from pykrige) (1.4.1)\n",
            "Requirement already satisfied: numpy>=1.14.5 in /usr/local/lib/python3.6/dist-packages (from pykrige) (1.18.2)\n",
            "Installing collected packages: pykrige\n",
            "Successfully installed pykrige-1.5.0\n"
          ],
          "name": "stdout"
        }
      ]
    },
    {
      "cell_type": "code",
      "metadata": {
        "id": "MLKx4VvgnrJY",
        "colab_type": "code",
        "colab": {
          "base_uri": "https://localhost:8080/",
          "height": 102
        },
        "outputId": "d361ef10-f31e-43a3-dd8a-e5e84b7fa07c"
      },
      "source": [
        "!pip install pyproj"
      ],
      "execution_count": 4,
      "outputs": [
        {
          "output_type": "stream",
          "text": [
            "Collecting pyproj\n",
            "\u001b[?25l  Downloading https://files.pythonhosted.org/packages/ce/37/705ee471f71130d4ceee41bbcb06f3b52175cb89273cbb5755ed5e6374e0/pyproj-2.6.0-cp36-cp36m-manylinux2010_x86_64.whl (10.4MB)\n",
            "\u001b[K     |████████████████████████████████| 10.4MB 4.4MB/s \n",
            "\u001b[?25hInstalling collected packages: pyproj\n",
            "Successfully installed pyproj-2.6.0\n"
          ],
          "name": "stdout"
        }
      ]
    },
    {
      "cell_type": "code",
      "metadata": {
        "id": "aGWCJhLXhs17",
        "colab_type": "code",
        "colab": {
          "base_uri": "https://localhost:8080/",
          "height": 391
        },
        "outputId": "f80cffd7-dbdc-4fe7-bac9-2aaa67a1f991"
      },
      "source": [
        "df = pd.read_excel('https://github.com/mcampo26/map/blob/master/FAKEpumpage.xlsx?raw=true') #read excel data\n",
        "print(df)"
      ],
      "execution_count": 5,
      "outputs": [
        {
          "output_type": "stream",
          "text": [
            "    Pumpage 2018 (gallons/yr)  Pumpage 2019 (gallons/yr)    lam_x    lam_y\n",
            "0                     4346400                       3750  3513064  3053266\n",
            "1                     1932000                      93000  3513839  3050592\n",
            "2                   372610000                     110000  3389816  3121532\n",
            "3                    77163000                    3687600  3386729  3135944\n",
            "4                    33228000                     198000  3506761  3068194\n",
            "5                   380355961                  301516000  3506761  3066874\n",
            "6                   346099000                     780000  3371537  3085976\n",
            "7                   166628000                  106710000  3514499  3050592\n",
            "8                   102275000                  317814000  3460783  3081317\n",
            "9                   109078000                  212898000  3377663  3065950\n",
            "10                  130566000                  200000000  3385049  3125841\n",
            "11                  137053000                   85035000  3447901  3085064\n",
            "12                   49543000                  116553000  3358761  3069868\n",
            "13                   10307000                  101225000  3417111  3057406\n",
            "14                   27349000                   81296000  3475894  3058172\n",
            "15                     948659                   53054000  3454817  3088316\n",
            "16                      71813                     252000  3340652  3102920\n",
            "17                   45012000                     252000  3370677  3125017\n",
            "18                       5000                       6681  3380214  3114540\n",
            "19                     250000                     647120  3372480  3114244\n",
            "20                     155000                   28674000  3380214  3109308\n"
          ],
          "name": "stdout"
        }
      ]
    },
    {
      "cell_type": "code",
      "metadata": {
        "id": "2ZWYb2eNgaw6",
        "colab_type": "code",
        "colab": {}
      },
      "source": [
        "illimap= {'proj': 'lcc', # Lambert Conformal Conic\n",
        "     'ellps': 'clrk66', #Clarke 1866 ellipsoid\n",
        "     'lon_0': -89.5, #Central Meridian\n",
        "     'lat_0': 33, #Latitude of Origin\n",
        "     'lat_1': 33, #Standard Parallel 1\n",
        "     'lat_2': 45, #Standard Parallel 2\n",
        "     'x_0': 2999994*0.3048006096012192, #starting x-coord. in ft, python expects m\n",
        "     'y_0': 0} #starting y-coord.\n",
        "\n",
        "wgs84= Proj('epsg:4326') #Standard lat/long coordinates"
      ],
      "execution_count": 0,
      "outputs": []
    },
    {
      "cell_type": "code",
      "metadata": {
        "id": "xB0wEGLNsjUU",
        "colab_type": "code",
        "colab": {
          "base_uri": "https://localhost:8080/",
          "height": 34
        },
        "outputId": "f168fcd7-1c62-4cfe-e8f5-d936bf927de3"
      },
      "source": [
        "  from pyproj import Proj, transform\n",
        "  inProj = Proj(illimap) #define input projection\n",
        "  outProj = wgs84 #define output projection\n",
        "  Long1,Lat1 = 0.3048006096012192*df['lam_x'].iloc[0],0.3048006096012192*df['lam_y'].iloc[0] #define input coordinates; convert lambert ft to m\n",
        "  Long2,Lat2 = transform(inProj,outProj,Long1,Lat1) #convert from lambert to wgs84\n",
        "print(Long2,Lat2)"
      ],
      "execution_count": 16,
      "outputs": [
        {
          "output_type": "stream",
          "text": [
            "41.40523623752517 -87.62095306984594\n"
          ],
          "name": "stdout"
        }
      ]
    },
    {
      "cell_type": "code",
      "metadata": {
        "id": "y1askcDtsiVz",
        "colab_type": "code",
        "colab": {
          "base_uri": "https://localhost:8080/",
          "height": 425
        },
        "outputId": "80565fb5-81b5-479a-976b-167f666fc405"
      },
      "source": [
        "Latitude=[] \n",
        "Longitude=[]\n",
        "for index, row in df.iterrows():\n",
        "  from pyproj import Proj, transform\n",
        "  inProj = Proj(illimap) #define input projection\n",
        "  outProj = wgs84 #define output projection\n",
        "  Long1,Lat1 = (0.3048006096012192*row['lam_x'],0.3048006096012192*row['lam_y']) #define input coordinates; convert lambert ft to m\n",
        "  Long2,Lat2 = transform(inProj,outProj,Long1,Lat1) #convert from lambert to wgs84\n",
        "  Latitude.append(Lat2) #add latitude data to empty Latitude=[] array\n",
        "  Longitude.append(Long2) #add longitude data to empty Longitude=[] array\n",
        "df['Latitude']=Latitude\n",
        "df['Longitude']=Longitude\n",
        "print(df)"
      ],
      "execution_count": 17,
      "outputs": [
        {
          "output_type": "stream",
          "text": [
            "    Pumpage 2018 (gallons/yr)  Pumpage 2019 (gallons/yr)  ...   Latitude  Longitude\n",
            "0                     4346400                       3750  ... -87.620953  41.405236\n",
            "1                     1932000                      93000  ... -87.618318  41.397821\n",
            "2                   372610000                     110000  ... -88.068302  41.599605\n",
            "3                    77163000                    3687600  ... -88.078809  41.639464\n",
            "4                    33228000                     198000  ... -87.642913  41.446744\n",
            "5                   380355961                  301516000  ... -87.643012  41.443106\n",
            "6                   346099000                     780000  ... -88.137381  41.502368\n",
            "7                   166628000                  106710000  ... -87.615902  41.397783\n",
            "8                   102275000                  317814000  ... -87.810466  41.485393\n",
            "9                   109078000                  212898000  ... -88.116037  41.446905\n",
            "10                  130566000                  200000000  ... -88.085560  41.611688\n",
            "11                  137053000                   85035000  ... -87.857440  41.496373\n",
            "12                   49543000                  116553000  ... -88.185084  41.458480\n",
            "13                   10307000                  101225000  ... -87.972035  41.421608\n",
            "14                   27349000                   81296000  ... -87.756702  41.420803\n",
            "15                     948659                   53054000  ... -87.831865  41.504990\n",
            "16                      71813                     252000  ... -88.249779  41.550301\n",
            "17                   45012000                     252000  ... -88.138390  41.610022\n",
            "18                       5000                       6681  ... -88.103955  41.580744\n",
            "19                     250000                     647120  ... -88.132363  41.580252\n",
            "20                     155000                   28674000  ... -88.104250  41.566322\n",
            "\n",
            "[21 rows x 6 columns]\n"
          ],
          "name": "stdout"
        }
      ]
    }
  ]
}