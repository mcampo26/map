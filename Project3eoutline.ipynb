{
  "nbformat": 4,
  "nbformat_minor": 0,
  "metadata": {
    "colab": {
      "name": "Project3eoutline.ipynb",
      "provenance": [],
      "authorship_tag": "ABX9TyPFN1TRP1ChfI+CpxUPUYlD",
      "include_colab_link": true
    },
    "kernelspec": {
      "name": "python3",
      "display_name": "Python 3"
    }
  },
  "cells": [
    {
      "cell_type": "markdown",
      "metadata": {
        "id": "view-in-github",
        "colab_type": "text"
      },
      "source": [
        "<a href=\"https://colab.research.google.com/github/mcampo26/map/blob/master/Project3eoutline.ipynb\" target=\"_parent\"><img src=\"https://colab.research.google.com/assets/colab-badge.svg\" alt=\"Open In Colab\"/></a>"
      ]
    },
    {
      "cell_type": "code",
      "metadata": {
        "id": "9H8rqE9iYSDt",
        "colab_type": "code",
        "colab": {}
      },
      "source": [
        "#import necessary packages\n",
        "!apt-get -qq install python-cartopy python3-cartopy\n",
        "import cartopy\n",
        "!pip install pykrige\n",
        "# Now let's import packages\n",
        "import pandas as pd\n",
        "import matplotlib.pyplot as plt\n",
        "import pylab #using as a plotting library for spatial data, make contours\n",
        "import numpy as np #gridded datasets and matrices; array package\n",
        "\n",
        "# import cartopy, which we will use to map\n",
        "import cartopy.crs as ccrs                   # import projections\n",
        "import cartopy.feature as cf                 # import features\n",
        "\n",
        "\n",
        "# import the UniversalKriging function from pykrige.uk \n",
        "from pykrige.uk import UniversalKriging\n",
        "\n"
      ],
      "execution_count": 0,
      "outputs": []
    },
    {
      "cell_type": "code",
      "metadata": {
        "id": "MLKx4VvgnrJY",
        "colab_type": "code",
        "colab": {}
      },
      "source": [
        "!pip install pyproj"
      ],
      "execution_count": 0,
      "outputs": []
    },
    {
      "cell_type": "code",
      "metadata": {
        "id": "aGWCJhLXhs17",
        "colab_type": "code",
        "colab": {}
      },
      "source": [
        "df = pd.read_excel('https://github.com/mcampo26/map/blob/master/FAKEpumpage.xlsx?raw=true') #read excel data"
      ],
      "execution_count": 0,
      "outputs": []
    },
    {
      "cell_type": "code",
      "metadata": {
        "id": "2ZWYb2eNgaw6",
        "colab_type": "code",
        "colab": {}
      },
      "source": [
        "illimap= {'proj': 'lcc', # Lambert Conformal Conic\n",
        "     'ellps': 'clrk66', #Clarke 1866 ellipsoid\n",
        "     'lon_0': -89.5, #Central Meridian\n",
        "     'lat_0': 33, #Latitude of Origin\n",
        "     'lat_1': 33, #Standard Parallel 1\n",
        "     'lat_2': 45, #Standard Parallel 2\n",
        "     'x_0': 2999994*0.3048006096012192, #starting x-coord. in ft, python expects m\n",
        "     'y_0': 0} #starting y-coord.\n",
        "\n",
        "wgs84= Proj('epsg:4326') #Standard lat/long coordinates"
      ],
      "execution_count": 0,
      "outputs": []
    },
    {
      "cell_type": "code",
      "metadata": {
        "id": "y1askcDtsiVz",
        "colab_type": "code",
        "colab": {
          "base_uri": "https://localhost:8080/",
          "height": 391
        },
        "outputId": "7558502e-4872-46f6-f4cb-c1803b51969f"
      },
      "source": [
        "Latitude=[] \n",
        "Longitude=[]\n",
        "for index, row in df.iterrows():\n",
        "  from pyproj import Proj, transform\n",
        "  inProj = Proj(illimap) #define input projection\n",
        "  outProj = wgs84 #define output projection\n",
        "  Long1,Lat1 = (0.3048006096012192*row['lam_x'],0.3048006096012192*row['lam_y']) #define input coordinates; convert lambert ft to m\n",
        "  Long2,Lat2 = transform(inProj,outProj,Long1,Lat1) #convert from lambert to wgs84\n",
        "  Latitude.append(Lat2) #add latitude data to empty Latitude=[] array\n",
        "  Longitude.append(Long2) #add longitude data to empty Longitude=[] array\n",
        "df['Latitude']=Latitude\n",
        "df['Longitude']=Longitude\n",
        "df2=df.drop(['lam_x','lam_y'],axis=1)\n",
        "print(df2)"
      ],
      "execution_count": 27,
      "outputs": [
        {
          "output_type": "stream",
          "text": [
            "    Pumpage 2018 (gallons/yr)  Pumpage 2019 (gallons/yr)   Latitude  Longitude\n",
            "0                     4346400                       3750 -87.620953  41.405236\n",
            "1                     1932000                      93000 -87.618318  41.397821\n",
            "2                   372610000                     110000 -88.068302  41.599605\n",
            "3                    77163000                    3687600 -88.078809  41.639464\n",
            "4                    33228000                     198000 -87.642913  41.446744\n",
            "5                   380355961                  301516000 -87.643012  41.443106\n",
            "6                   346099000                     780000 -88.137381  41.502368\n",
            "7                   166628000                  106710000 -87.615902  41.397783\n",
            "8                   102275000                  317814000 -87.810466  41.485393\n",
            "9                   109078000                  212898000 -88.116037  41.446905\n",
            "10                  130566000                  200000000 -88.085560  41.611688\n",
            "11                  137053000                   85035000 -87.857440  41.496373\n",
            "12                   49543000                  116553000 -88.185084  41.458480\n",
            "13                   10307000                  101225000 -87.972035  41.421608\n",
            "14                   27349000                   81296000 -87.756702  41.420803\n",
            "15                     948659                   53054000 -87.831865  41.504990\n",
            "16                      71813                     252000 -88.249779  41.550301\n",
            "17                   45012000                     252000 -88.138390  41.610022\n",
            "18                       5000                       6681 -88.103955  41.580744\n",
            "19                     250000                     647120 -88.132363  41.580252\n",
            "20                     155000                   28674000 -88.104250  41.566322\n"
          ],
          "name": "stdout"
        }
      ]
    },
    {
      "cell_type": "code",
      "metadata": {
        "id": "DPsVPgXom5tq",
        "colab_type": "code",
        "colab": {}
      },
      "source": [
        "#Domain of project\n",
        "sw_lat = 41.411972 #southwest latitude\n",
        "sw_long =  -88.241971 #southwest longitude\n",
        "ne_lat =  41.72910 #northeast latitude\n",
        "ne_long = -88.030337 #northeast longitude"
      ],
      "execution_count": 0,
      "outputs": []
    },
    {
      "cell_type": "code",
      "metadata": {
        "id": "pTO_bi_Emz8h",
        "colab_type": "code",
        "colab": {}
      },
      "source": [
        "minlat = 41\n",
        "maxlat = 42\n",
        "minlong = -88.75\n",
        "maxlong = -87.5"
      ],
      "execution_count": 0,
      "outputs": []
    },
    {
      "cell_type": "code",
      "metadata": {
        "id": "VEJpg8cBnR1y",
        "colab_type": "code",
        "colab": {}
      },
      "source": [
        "# conduct the Universal Kriging\n",
        "UK2018 = UniversalKriging(df2['Longitude'], df2['Latitude'], df2['Pumpage 2018 (gallons/yr)'], variogram_model='spherical',nlags=6)\n",
        "UK2019 = UniversalKriging(df2['Longitude'], df2['Latitude'], df2['Pumpage 2019 (gallons/yr)'], variogram_model='spherical',nlags=6)"
      ],
      "execution_count": 0,
      "outputs": []
    },
    {
      "cell_type": "code",
      "metadata": {
        "id": "KfGP-QWHnjxl",
        "colab_type": "code",
        "colab": {}
      },
      "source": [
        "# create xpoints and ypoints in space, with 0.01 spacing\n",
        "xpoints = np.arange(minlong,maxlong,0.01) \n",
        "ypoints = np.arange(minlat,maxlat,0.01) \n",
        "\n",
        "# create a meshgrid with xpoints and ypoints, to be used later in the code; same x or y points repeated in each line of X or Y grid\n",
        "X,Y = np.meshgrid(xpoints,ypoints)\n",
        "\n",
        "# calculate the interpolated grid and fill values (values in feet above mean sea level)\n",
        "z18, var = UK2018.execute('grid', xpoints,ypoints)\n",
        "z18 = z18.filled(fill_value=None)\n",
        "z19, var = UK2019.execute('grid', xpoints,ypoints)\n",
        "z19 = z19.filled(fill_value=None)"
      ],
      "execution_count": 0,
      "outputs": []
    },
    {
      "cell_type": "code",
      "metadata": {
        "id": "hOFaxUD2nzfs",
        "colab_type": "code",
        "colab": {}
      },
      "source": [
        "print(z18.min())\n",
        "print(z18.max())\n",
        "print(z19.min())\n",
        "print(z19.max())"
      ],
      "execution_count": 0,
      "outputs": []
    },
    {
      "cell_type": "code",
      "metadata": {
        "id": "TmqHrX7-oDsD",
        "colab_type": "code",
        "colab": {
          "base_uri": "https://localhost:8080/",
          "height": 404
        },
        "outputId": "238cce56-9b53-4f22-964b-fa86afa95a9e"
      },
      "source": [
        "fig = plt.figure(figsize=(8, 8))\n",
        "ax = plt.axes(projection=ccrs.PlateCarree())\n",
        "ax.set_xlim(minlong,maxlong)\n",
        "ax.set_ylim(minlat,maxlat)\n",
        "ax.set_title(\"Pumpage (gallons/yr)\")\n",
        "states_provinces = cf.NaturalEarthFeature(\n",
        "    category='cultural', # features are categorized as cultural or physical\n",
        "    name='admin_1_states_provinces', # name of shapefile\n",
        "    scale='50m', # scale of features\n",
        "    facecolor='none')\t\n",
        "largerivers = cf.NaturalEarthFeature(\n",
        "    category='physical',\n",
        "    name='rivers_lake_centerlines',\n",
        "    scale='110m', # major rivers\n",
        "    facecolor='none')\n",
        "smallrivers = cf.NaturalEarthFeature(\n",
        "    category='physical',\n",
        "    name='rivers_lake_centerlines_scale_rank',\n",
        "    scale='10m', # smaller rivers (still considered major by many/most people)\n",
        "    facecolor='none')   \n",
        "popplaces = cf.NaturalEarthFeature(\n",
        "    category='cultural',\n",
        "    name='urban_areas', # plots municipal boundaries\n",
        "    scale='10m',\n",
        "    facecolor='plum') \n",
        "# adds the features defined above\n",
        "ax.add_feature(popplaces,edgecolor='plum',linewidth=1.0)\n",
        "ax.add_feature(largerivers,edgecolor='aqua',linewidth=2.0)\n",
        "ax.add_feature(smallrivers,edgecolor='aqua',linewidth=2.0)\n",
        "ax.add_feature(states_provinces, edgecolor='black', linewidth=3.0,linestyle=':')\n",
        "\n",
        "plt.scatter(X,Y, z18, marker=\".\", color=\"black\", label=\"points\")\n",
        "plt.scatter(df2['Longitude'], df2['Latitude'], marker=\".\", color=\"black\", label=\"points\")\n",
        "plt.legend(loc='lower right')\n",
        "plt.fill()\n",
        "plt.title('Pumpage 2018 (gallons/yr)')\n",
        "plt.show()"
      ],
      "execution_count": 39,
      "outputs": [
        {
          "output_type": "display_data",
          "data": {
            "image/png": "[encoded data removed]",
            "text/plain": [
              "<Figure size 576x576 with 1 Axes>"
            ]
          },
          "metadata": {
            "tags": []
          }
        }
      ]
    }
  ]
}