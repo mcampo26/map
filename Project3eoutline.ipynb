{
  "nbformat": 4,
  "nbformat_minor": 0,
  "metadata": {
    "colab": {
      "name": "Project3eoutline.ipynb",
      "provenance": [],
      "authorship_tag": "ABX9TyPg+Bg5aLdbAtfjiSntwZ99",
      "include_colab_link": true
    },
    "kernelspec": {
      "name": "python3",
      "display_name": "Python 3"
    }
  },
  "cells": [
    {
      "cell_type": "markdown",
      "metadata": {
        "id": "view-in-github",
        "colab_type": "text"
      },
      "source": [
        "<a href=\"https://colab.research.google.com/github/mcampo26/map/blob/master/Project3eoutline.ipynb\" target=\"_parent\"><img src=\"https://colab.research.google.com/assets/colab-badge.svg\" alt=\"Open In Colab\"/></a>"
      ]
    },
    {
      "cell_type": "code",
      "metadata": {
        "id": "9H8rqE9iYSDt",
        "colab_type": "code",
        "colab": {}
      },
      "source": [
        "!apt-get -qq install python-cartopy python3-cartopy\n",
        "import cartopy\n",
        "!pip install pykrige\n",
        "# Now let's import packages\n",
        "import pandas as pd\n",
        "import matplotlib.pyplot as plt\n",
        "import pylab #using as a plotting library for spatial data, make contours\n",
        "import numpy as np #gridded datasets and matrices; array package\n",
        "\n",
        "# import cartopy, which we will use to map\n",
        "import cartopy.crs as ccrs                   # import projections\n",
        "import cartopy.feature as cf                 # import features\n",
        "\n",
        "\n",
        "# import the UniversalKriging function from pykrige.uk \n",
        "from pykrige.uk import UniversalKriging\n",
        "\n"
      ],
      "execution_count": 0,
      "outputs": []
    },
    {
      "cell_type": "code",
      "metadata": {
        "id": "MLKx4VvgnrJY",
        "colab_type": "code",
        "colab": {
          "base_uri": "https://localhost:8080/",
          "height": 101
        },
        "outputId": "ffa10cc3-f78c-489e-ab83-51e053cdf490"
      },
      "source": [
        "!pip install pyproj"
      ],
      "execution_count": 10,
      "outputs": [
        {
          "output_type": "stream",
          "text": [
            "Collecting pyproj\n",
            "\u001b[?25l  Downloading https://files.pythonhosted.org/packages/ce/37/705ee471f71130d4ceee41bbcb06f3b52175cb89273cbb5755ed5e6374e0/pyproj-2.6.0-cp36-cp36m-manylinux2010_x86_64.whl (10.4MB)\n",
            "\u001b[K     |████████████████████████████████| 10.4MB 3.9MB/s \n",
            "\u001b[?25hInstalling collected packages: pyproj\n",
            "Successfully installed pyproj-2.6.0\n"
          ],
          "name": "stdout"
        }
      ]
    },
    {
      "cell_type": "code",
      "metadata": {
        "id": "aGWCJhLXhs17",
        "colab_type": "code",
        "colab": {
          "base_uri": "https://localhost:8080/",
          "height": 386
        },
        "outputId": "94578433-ead6-4260-ee5a-688bed6be254"
      },
      "source": [
        "df = pd.read_excel('https://github.com/mcampo26/map/blob/master/FAKEpumpage.xlsx?raw=true')\n",
        "print(df)"
      ],
      "execution_count": 26,
      "outputs": [
        {
          "output_type": "stream",
          "text": [
            "    Pumpage 2018 (gallons/yr)  Pumpage 2019 (gallons/yr)    lam_x    lam_y\n",
            "0                     4346400                       3750  3513064  3053266\n",
            "1                     1932000                      93000  3513839  3050592\n",
            "2                   372610000                     110000  3389816  3121532\n",
            "3                    77163000                    3687600  3386729  3135944\n",
            "4                    33228000                     198000  3506761  3068194\n",
            "5                   380355961                  301516000  3506761  3066874\n",
            "6                   346099000                     780000  3371537  3085976\n",
            "7                   166628000                  106710000  3514499  3050592\n",
            "8                   102275000                  317814000  3460783  3081317\n",
            "9                   109078000                  212898000  3377663  3065950\n",
            "10                  130566000                  200000000  3385049  3125841\n",
            "11                  137053000                   85035000  3447901  3085064\n",
            "12                   49543000                  116553000  3358761  3069868\n",
            "13                   10307000                  101225000  3417111  3057406\n",
            "14                   27349000                   81296000  3475894  3058172\n",
            "15                     948659                   53054000  3454817  3088316\n",
            "16                      71813                     252000  3340652  3102920\n",
            "17                   45012000                     252000  3370677  3125017\n",
            "18                       5000                       6681  3380214  3114540\n",
            "19                     250000                     647120  3372480  3114244\n",
            "20                     155000                   28674000  3380214  3109308\n"
          ],
          "name": "stdout"
        }
      ]
    },
    {
      "cell_type": "code",
      "metadata": {
        "id": "xB0wEGLNsjUU",
        "colab_type": "code",
        "colab": {
          "base_uri": "https://localhost:8080/",
          "height": 50
        },
        "outputId": "d1836684-9cc1-4e1f-a6b7-cbe5b0204559"
      },
      "source": [
        "  from pyproj import Proj, transform\n",
        "  inProj = Proj('epsg:3035')\n",
        "  outProj = Proj('epsg:4326')\n",
        "  Long1,Lat1 = df['lam_x'].iloc[0],df['lam_y'].iloc[0]\n",
        "  Long2,Lat2 = transform(inProj,outProj,Long1,Lat1)\n",
        "print(Long2,Lat2)\n",
        "type(Long2)"
      ],
      "execution_count": 33,
      "outputs": [
        {
          "output_type": "stream",
          "text": [
            "53.200318206225646 -9.229763505163211\n"
          ],
          "name": "stdout"
        },
        {
          "output_type": "execute_result",
          "data": {
            "text/plain": [
              "float"
            ]
          },
          "metadata": {
            "tags": []
          },
          "execution_count": 33
        }
      ]
    },
    {
      "cell_type": "code",
      "metadata": {
        "id": "y1askcDtsiVz",
        "colab_type": "code",
        "colab": {
          "base_uri": "https://localhost:8080/",
          "height": 229
        },
        "outputId": "2ae88ee2-c59f-41c9-d38a-cea9a718d06b"
      },
      "source": [
        "Latitude=[] \n",
        "Longitude=[]\n",
        "for index, row in df.iterrows():\n",
        "  from pyproj import Proj, transform\n",
        "  inProj = Proj('epsg:3035')\n",
        "  outProj = Proj('epsg:4326')\n",
        "  Long1,Lat1 = np.array(df['lam_x'],df['lam_y'])\n",
        "  Long2,Lat2 = np.array(transform(inProj,outProj,Long1,Lat1))\n",
        "  Latitude.append(Lat2) #add latitude data to empty Latitude=[] array\n",
        "  Longitude.append(Long2) #add longitude data to empty Longitude=[] array\n",
        "\n",
        "print(df)"
      ],
      "execution_count": 42,
      "outputs": [
        {
          "output_type": "error",
          "ename": "ValueError",
          "evalue": "ignored",
          "traceback": [
            "\u001b[0;31m---------------------------------------------------------------------------\u001b[0m",
            "\u001b[0;31mValueError\u001b[0m                                Traceback (most recent call last)",
            "\u001b[0;32m<ipython-input-42-a95915257652>\u001b[0m in \u001b[0;36m<module>\u001b[0;34m()\u001b[0m\n\u001b[1;32m      5\u001b[0m   \u001b[0minProj\u001b[0m \u001b[0;34m=\u001b[0m \u001b[0mProj\u001b[0m\u001b[0;34m(\u001b[0m\u001b[0;34m'epsg:3035'\u001b[0m\u001b[0;34m)\u001b[0m\u001b[0;34m\u001b[0m\u001b[0;34m\u001b[0m\u001b[0m\n\u001b[1;32m      6\u001b[0m   \u001b[0moutProj\u001b[0m \u001b[0;34m=\u001b[0m \u001b[0mProj\u001b[0m\u001b[0;34m(\u001b[0m\u001b[0;34m'epsg:4326'\u001b[0m\u001b[0;34m)\u001b[0m\u001b[0;34m\u001b[0m\u001b[0;34m\u001b[0m\u001b[0m\n\u001b[0;32m----> 7\u001b[0;31m   \u001b[0mLong1\u001b[0m\u001b[0;34m,\u001b[0m\u001b[0mLat1\u001b[0m \u001b[0;34m=\u001b[0m \u001b[0mnp\u001b[0m\u001b[0;34m.\u001b[0m\u001b[0marray\u001b[0m\u001b[0;34m(\u001b[0m\u001b[0mdf\u001b[0m\u001b[0;34m[\u001b[0m\u001b[0;34m'lam_x'\u001b[0m\u001b[0;34m]\u001b[0m\u001b[0;34m,\u001b[0m\u001b[0mdf\u001b[0m\u001b[0;34m[\u001b[0m\u001b[0;34m'lam_y'\u001b[0m\u001b[0;34m]\u001b[0m\u001b[0;34m)\u001b[0m\u001b[0;34m\u001b[0m\u001b[0;34m\u001b[0m\u001b[0m\n\u001b[0m\u001b[1;32m      8\u001b[0m   \u001b[0mLong2\u001b[0m\u001b[0;34m,\u001b[0m\u001b[0mLat2\u001b[0m \u001b[0;34m=\u001b[0m \u001b[0mnp\u001b[0m\u001b[0;34m.\u001b[0m\u001b[0marray\u001b[0m\u001b[0;34m(\u001b[0m\u001b[0mtransform\u001b[0m\u001b[0;34m(\u001b[0m\u001b[0minProj\u001b[0m\u001b[0;34m,\u001b[0m\u001b[0moutProj\u001b[0m\u001b[0;34m,\u001b[0m\u001b[0mLong1\u001b[0m\u001b[0;34m,\u001b[0m\u001b[0mLat1\u001b[0m\u001b[0;34m)\u001b[0m\u001b[0;34m)\u001b[0m\u001b[0;34m\u001b[0m\u001b[0;34m\u001b[0m\u001b[0m\n\u001b[1;32m      9\u001b[0m   \u001b[0mLatitude\u001b[0m\u001b[0;34m.\u001b[0m\u001b[0mappend\u001b[0m\u001b[0;34m(\u001b[0m\u001b[0mLat2\u001b[0m\u001b[0;34m)\u001b[0m \u001b[0;31m#add latitude data to empty Latitude=[] array\u001b[0m\u001b[0;34m\u001b[0m\u001b[0;34m\u001b[0m\u001b[0m\n",
            "\u001b[0;31mValueError\u001b[0m: too many values to unpack (expected 2)"
          ]
        }
      ]
    }
  ]
}